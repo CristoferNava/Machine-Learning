{
 "cells": [
  {
   "cell_type": "code",
   "execution_count": 23,
   "id": "lucky-complex",
   "metadata": {},
   "outputs": [],
   "source": [
    "import numpy as np\n",
    "import pandas as pd"
   ]
  },
  {
   "cell_type": "code",
   "execution_count": 612,
   "id": "decreased-borough",
   "metadata": {},
   "outputs": [],
   "source": [
    "from math import e, pi, sqrt\n",
    "\n",
    "def matrix_measures(df):\n",
    "    '''Creates a matrix of measures, each element in the matrix is an array of two elements:\n",
    "    the first one is the mean and the second is the standart deviation.\n",
    "    We have an array for each column in the data-frame\n",
    "    '''\n",
    "    matrix = []\n",
    "    for i, column in enumerate(df.columns):\n",
    "        if i == len(df.columns) - 1:\n",
    "            return matrix\n",
    "        matrix.append([ df[column].mean(), df[column].std() ])\n",
    "        \n",
    "        \n",
    "def normal_distribution(c, mean, std):\n",
    "    '''Normal distribution equation. '''\n",
    "    if std == 0:\n",
    "        return 0.000001\n",
    "    return (1 / sqrt(2 * pi * std)) * (e ** (-0.5 * (((c - mean) / std)**2)))\n",
    "\n",
    "\n",
    "def naive_bayes_training(df):\n",
    "    '''\n",
    "        df: dataframe of training\n",
    "    '''\n",
    "    n_columns = df.shape[1] # get the number of columns (rows x columns)\n",
    "    classes = df.iloc[:, n_columns - 1] # select the last column (we assume it has the labels of the classes)\n",
    "    classes = np.unique(classes) # get the classes, that is the different values\n",
    "    \n",
    "    df = np.array_split(df, len(classes)) # split the data frame in the number of classes\n",
    "    \n",
    "    # hash-table, the keys are the classes and the values are the matrix_measures (means and stds)\n",
    "    measures = {}\n",
    "    for i in range(len(df)):\n",
    "        measures[i] = matrix_measures(df[i])\n",
    "    \n",
    "    return measures\n",
    "\n",
    "\n",
    "def naive_bayes(measures, x):\n",
    "    # array of probabilities, each per class \n",
    "    probabilities = []\n",
    "    for k, v in measures.items():\n",
    "        p = 1\n",
    "        for i, c in enumerate(x):\n",
    "            nd_result = normal_distribution(c, measures[k][i][0], measures[k][i][1])\n",
    "            if (nd_result * p) < 0.0000001:\n",
    "                p *= 1\n",
    "            else:\n",
    "                p *= nd_result\n",
    "        probabilities.append(p)\n",
    "            \n",
    "    if probabilities[0] > probabilities[1]:\n",
    "        return 1.0 # No spam\n",
    "    else:\n",
    "        return 2.0 # Spam"
   ]
  },
  {
   "cell_type": "code",
   "execution_count": 623,
   "id": "stuck-friendly",
   "metadata": {},
   "outputs": [],
   "source": [
    "# set 1\n",
    "training = pd.read_csv('./1/tr_ems_countvectorizer.csv', header=None)\n",
    "testing = pd.read_csv('./1/te_ems_countvectorizer.csv', header=None)\n",
    "n_columns = testing.shape[1]"
   ]
  },
  {
   "cell_type": "code",
   "execution_count": 625,
   "id": "published-scanner",
   "metadata": {},
   "outputs": [
    {
     "name": "stdout",
     "output_type": "stream",
     "text": [
      "2\n"
     ]
    },
    {
     "data": {
      "text/plain": [
       "(13, 0.65)"
      ]
     },
     "execution_count": 625,
     "metadata": {},
     "output_type": "execute_result"
    }
   ],
   "source": [
    "measures = naive_bayes_training(training)\n",
    "\n",
    "corrects = 0\n",
    "for i in range(20):\n",
    "    sample = testing.iloc[i, :n_columns - 1]\n",
    "    result = naive_bayes(measures, sample)\n",
    "    if result == testing.iloc[i, n_columns - 1]:\n",
    "        corrects += 1\n",
    "        \n",
    "corrects, corrects/20"
   ]
  }
 ],
 "metadata": {
  "kernelspec": {
   "display_name": "Python 3",
   "language": "python",
   "name": "python3"
  },
  "language_info": {
   "codemirror_mode": {
    "name": "ipython",
    "version": 3
   },
   "file_extension": ".py",
   "mimetype": "text/x-python",
   "name": "python",
   "nbconvert_exporter": "python",
   "pygments_lexer": "ipython3",
   "version": "3.9.1"
  }
 },
 "nbformat": 4,
 "nbformat_minor": 5
}
