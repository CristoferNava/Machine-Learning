{
 "cells": [
  {
   "cell_type": "code",
   "execution_count": 4,
   "id": "amateur-calculation",
   "metadata": {},
   "outputs": [],
   "source": [
    "import pandas as pd\n",
    "import numpy as np"
   ]
  },
  {
   "cell_type": "code",
   "execution_count": 5,
   "id": "contrary-remainder",
   "metadata": {},
   "outputs": [],
   "source": [
    "def matrix_measures(df):\n",
    "    '''Creates a matrix of measures, each element in the matrix is an array of two elements:\n",
    "    the first one is the mean and the second is the standart deviation.\n",
    "    We have an array for each column in the data-frame\n",
    "    '''\n",
    "    matrix = []\n",
    "    for i, column in enumerate(df.columns):\n",
    "        if i == len(df.columns) - 1:\n",
    "            return matrix\n",
    "        matrix.append([ df[column].mean(), df[column].std() ])\n",
    "    \n",
    "    \n",
    "def normal_distribution(c, mean, std):\n",
    "    '''Normal distribution equation. '''\n",
    "    from math import e, pi, sqrt\n",
    "    return (1 / sqrt(2 * pi * std)) * (e ** (-0.5 * (((c - mean) / std)**2)))\n",
    "\n",
    "\n",
    "def naive_bayes(df, x):\n",
    "    '''\n",
    "        df: dataframe,\n",
    "        x: sample vector to clasify\n",
    "    '''\n",
    "    n_columns = df.shape[1] # get the number of columns (rows x columns)\n",
    "    classes = df.iloc[:, n_columns - 1] # select the last column (we assume it has the labels of the classes)\n",
    "    classes = np.unique(classes) # get the classes, that is the different values\n",
    "    df = np.array_split(df, len(classes)) # split the data frame in the number of classes\n",
    "    \n",
    "    \n",
    "    # hash-table, the keys are the classes and the values are the matrix_measures (means and stds)\n",
    "    measures = {}\n",
    "    for i in range(len(df)):\n",
    "        measures[i] = matrix_measures(df[i])\n",
    "    \n",
    "    # array of probabilities, each per class \n",
    "    probabilities = []\n",
    "    for k, v in measures.items():\n",
    "        p = 1\n",
    "        for i, c in enumerate(x):\n",
    "            p *= normal_distribution(c, measures[k][i][0], measures[k][i][1])\n",
    "        probabilities.append(p)\n",
    "    \n",
    "    max_p = probabilities[0]\n",
    "    result = 0 # index of the class\n",
    "    \n",
    "    # find the max probabilitie\n",
    "    for i, p in enumerate(probabilities):\n",
    "        if p > max_p:\n",
    "            max_p = p\n",
    "            result = i\n",
    "    # print the class\n",
    "    print(classes[result])"
   ]
  },
  {
   "cell_type": "code",
   "execution_count": 13,
   "id": "everyday-rebound",
   "metadata": {},
   "outputs": [],
   "source": [
    "# improve: calculate the measures matrix only one time in the case we want to classify a set of samples\n",
    "\n",
    "df = pd.read_csv('./iris.data', header=None, encoding='utf-8')\n",
    "x = df.iloc[108, :4] # sample to classify"
   ]
  },
  {
   "cell_type": "code",
   "execution_count": 14,
   "id": "unlike-locator",
   "metadata": {},
   "outputs": [
    {
     "name": "stdout",
     "output_type": "stream",
     "text": [
      "Iris-virginica\n"
     ]
    }
   ],
   "source": [
    "naive_bayes(df, x)"
   ]
  },
  {
   "cell_type": "code",
   "execution_count": null,
   "id": "floppy-reality",
   "metadata": {},
   "outputs": [],
   "source": []
  }
 ],
 "metadata": {
  "kernelspec": {
   "display_name": "Python 3",
   "language": "python",
   "name": "python3"
  },
  "language_info": {
   "codemirror_mode": {
    "name": "ipython",
    "version": 3
   },
   "file_extension": ".py",
   "mimetype": "text/x-python",
   "name": "python",
   "nbconvert_exporter": "python",
   "pygments_lexer": "ipython3",
   "version": "3.9.1"
  }
 },
 "nbformat": 4,
 "nbformat_minor": 5
}
