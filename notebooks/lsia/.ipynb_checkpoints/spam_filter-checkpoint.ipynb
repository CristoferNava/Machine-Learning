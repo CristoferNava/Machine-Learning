{
 "cells": [
  {
   "cell_type": "code",
   "execution_count": 23,
   "id": "stock-electric",
   "metadata": {},
   "outputs": [],
   "source": [
    "import numpy as np\n",
    "import pandas as pd"
   ]
  },
  {
   "cell_type": "code",
   "execution_count": 248,
   "id": "separate-croatia",
   "metadata": {},
   "outputs": [],
   "source": [
    "def matrix_measures(df):\n",
    "    '''Creates a matrix of measures, each element in the matrix is an array of two elements:\n",
    "    the first one is the mean and the second is the standart deviation.\n",
    "    We have an array for each column in the data-frame\n",
    "    '''\n",
    "    matrix = []\n",
    "    for i, column in enumerate(df.columns):\n",
    "        if i == len(df.columns) - 1:\n",
    "            return matrix\n",
    "        matrix.append([ df[column].mean(), df[column].std()])\n",
    "        \n",
    "        \n",
    "def normal_distribution(c, mean, std):\n",
    "    '''Normal distribution equation. '''\n",
    "    from math import e, pi, sqrt\n",
    "    if std == 0:\n",
    "        return 1\n",
    "    return (1 / sqrt(2 * pi * std)) * (e ** (-0.5 * (((c - mean) / std)**2)))\n",
    "\n",
    "\n",
    "def naive_bayes(df, x):\n",
    "    '''\n",
    "        df: dataframe,\n",
    "        x: sample vector to clasify\n",
    "    '''\n",
    "    n_columns = df.shape[1] # get the number of columns (rows x columns)\n",
    "    classes = df.iloc[:, n_columns - 1] # select the last column (we assume it has the labels of the classes)\n",
    "    classes = np.unique(classes) # get the classes, that is the different values\n",
    "\n",
    "    df = np.array_split(df, len(classes)) # split the data frame in the number of classes\n",
    "    \n",
    "    \n",
    "    # hash-table, the keys are the classes and the values are the matrix_measures (means and stds)\n",
    "    measures = {}\n",
    "    for i in range(len(df)):\n",
    "        measures[i] = matrix_measures(df[i])\n",
    "    \n",
    "    \n",
    "    # array of probabilities, each per class \n",
    "    probabilities = []\n",
    "    for k, v in measures.items():\n",
    "        p = 1\n",
    "        for i, c in enumerate(x):\n",
    "            nd_result = normal_distribution(c, measures[k][i][0], measures[k][i][1])\n",
    "            if (nd_result * p) < 0.00000000000001:\n",
    "                p *= 1\n",
    "            else:\n",
    "                p *= nd_result\n",
    "        probabilities.append(p)\n",
    "    \n",
    "    #print(probabilities)\n",
    "    max_p = probabilities[0]\n",
    "    result = 0 # index of the class\n",
    "    \n",
    "    # find the max probabilitie\n",
    "    for i, p in enumerate(probabilities):\n",
    "        if p > max_p:\n",
    "            max_p = p\n",
    "            result = i\n",
    "            \n",
    "    print(probabilities)\n",
    "    # print the class\n",
    "    if classes[result] == 1.0:\n",
    "        print('No spam')\n",
    "    else:\n",
    "        print('Spam')"
   ]
  },
  {
   "cell_type": "code",
   "execution_count": 249,
   "id": "average-burner",
   "metadata": {},
   "outputs": [],
   "source": [
    "training = pd.read_csv('./tr_ems_countvectorizer.csv', header=None)\n",
    "test = pd.read_csv('./te_ems_countvectorizer.csv', header=None)"
   ]
  },
  {
   "cell_type": "code",
   "execution_count": 250,
   "id": "straight-blake",
   "metadata": {},
   "outputs": [
    {
     "name": "stdout",
     "output_type": "stream",
     "text": [
      "[1.1180256078492951e-14, 1.0424909159211295e-14]\n",
      "No spam\n",
      "[1.0702028959107658e-14, 1.0414806384112498e-14]\n",
      "No spam\n",
      "[1.0853933724511517e-14, 1.1145978865083568e-14]\n",
      "Spam\n",
      "[1.0901846223285753e-14, 1.0335365362690083e-14]\n",
      "No spam\n"
     ]
    },
    {
     "data": {
      "text/plain": [
       "(None, None, None, None)"
      ]
     },
     "execution_count": 250,
     "metadata": {},
     "output_type": "execute_result"
    }
   ],
   "source": [
    "a = test.iloc[0, :n_columns-1] # sample to classify. No Spam\n",
    "b = test.iloc[7, :n_columns-1] # sample to classify\n",
    "c = test.iloc[13, :n_columns-1] # sample to classify\n",
    "d = test.iloc[18, :n_columns-1] # sample to classify\n",
    "\n",
    "naive_bayes(training, a), naive_bayes(training, b), naive_bayes(training, c), naive_bayes(training, d)  "
   ]
  },
  {
   "cell_type": "code",
   "execution_count": 217,
   "id": "otherwise-turner",
   "metadata": {},
   "outputs": [
    {
     "name": "stdout",
     "output_type": "stream",
     "text": [
      "1.0\n",
      "1.0\n",
      "1.0\n",
      "1.0\n",
      "1.0\n",
      "1.0\n",
      "1.0\n",
      "1.0\n",
      "1.0\n",
      "1.0\n",
      "2.0\n",
      "2.0\n",
      "2.0\n",
      "2.0\n",
      "2.0\n",
      "2.0\n",
      "2.0\n",
      "2.0\n",
      "2.0\n",
      "2.0\n"
     ]
    }
   ],
   "source": [
    "for i in range(20):\n",
    "    sample = test.iloc[i, n_columns-1]\n",
    "    print(sample)"
   ]
  },
  {
   "cell_type": "code",
   "execution_count": null,
   "id": "toxic-lighter",
   "metadata": {},
   "outputs": [],
   "source": []
  }
 ],
 "metadata": {
  "kernelspec": {
   "display_name": "Python 3",
   "language": "python",
   "name": "python3"
  },
  "language_info": {
   "codemirror_mode": {
    "name": "ipython",
    "version": 3
   },
   "file_extension": ".py",
   "mimetype": "text/x-python",
   "name": "python",
   "nbconvert_exporter": "python",
   "pygments_lexer": "ipython3",
   "version": "3.9.1"
  }
 },
 "nbformat": 4,
 "nbformat_minor": 5
}
