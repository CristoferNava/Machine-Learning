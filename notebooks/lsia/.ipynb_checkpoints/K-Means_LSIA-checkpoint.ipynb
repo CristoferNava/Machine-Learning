{
 "cells": [
  {
   "cell_type": "code",
   "execution_count": 1,
   "id": "likely-psychiatry",
   "metadata": {},
   "outputs": [],
   "source": [
    "import matplotlib.pyplot as plt\n",
    "import numpy as np\n",
    "import pandas as pd"
   ]
  },
  {
   "cell_type": "code",
   "execution_count": 2,
   "id": "trained-joshua",
   "metadata": {},
   "outputs": [
    {
     "data": {
      "text/html": [
       "<div>\n",
       "<style scoped>\n",
       "    .dataframe tbody tr th:only-of-type {\n",
       "        vertical-align: middle;\n",
       "    }\n",
       "\n",
       "    .dataframe tbody tr th {\n",
       "        vertical-align: top;\n",
       "    }\n",
       "\n",
       "    .dataframe thead th {\n",
       "        text-align: right;\n",
       "    }\n",
       "</style>\n",
       "<table border=\"1\" class=\"dataframe\">\n",
       "  <thead>\n",
       "    <tr style=\"text-align: right;\">\n",
       "      <th></th>\n",
       "      <th>INCOME</th>\n",
       "      <th>SPEND</th>\n",
       "    </tr>\n",
       "  </thead>\n",
       "  <tbody>\n",
       "    <tr>\n",
       "      <th>0</th>\n",
       "      <td>233</td>\n",
       "      <td>150</td>\n",
       "    </tr>\n",
       "    <tr>\n",
       "      <th>1</th>\n",
       "      <td>250</td>\n",
       "      <td>187</td>\n",
       "    </tr>\n",
       "    <tr>\n",
       "      <th>2</th>\n",
       "      <td>204</td>\n",
       "      <td>172</td>\n",
       "    </tr>\n",
       "    <tr>\n",
       "      <th>3</th>\n",
       "      <td>236</td>\n",
       "      <td>178</td>\n",
       "    </tr>\n",
       "    <tr>\n",
       "      <th>4</th>\n",
       "      <td>354</td>\n",
       "      <td>163</td>\n",
       "    </tr>\n",
       "    <tr>\n",
       "      <th>...</th>\n",
       "      <td>...</td>\n",
       "      <td>...</td>\n",
       "    </tr>\n",
       "    <tr>\n",
       "      <th>298</th>\n",
       "      <td>241</td>\n",
       "      <td>123</td>\n",
       "    </tr>\n",
       "    <tr>\n",
       "      <th>299</th>\n",
       "      <td>264</td>\n",
       "      <td>132</td>\n",
       "    </tr>\n",
       "    <tr>\n",
       "      <th>300</th>\n",
       "      <td>193</td>\n",
       "      <td>141</td>\n",
       "    </tr>\n",
       "    <tr>\n",
       "      <th>301</th>\n",
       "      <td>131</td>\n",
       "      <td>115</td>\n",
       "    </tr>\n",
       "    <tr>\n",
       "      <th>302</th>\n",
       "      <td>236</td>\n",
       "      <td>174</td>\n",
       "    </tr>\n",
       "  </tbody>\n",
       "</table>\n",
       "<p>303 rows × 2 columns</p>\n",
       "</div>"
      ],
      "text/plain": [
       "     INCOME  SPEND\n",
       "0       233    150\n",
       "1       250    187\n",
       "2       204    172\n",
       "3       236    178\n",
       "4       354    163\n",
       "..      ...    ...\n",
       "298     241    123\n",
       "299     264    132\n",
       "300     193    141\n",
       "301     131    115\n",
       "302     236    174\n",
       "\n",
       "[303 rows x 2 columns]"
      ]
     },
     "execution_count": 2,
     "metadata": {},
     "output_type": "execute_result"
    }
   ],
   "source": [
    "# carga del dataset\n",
    "df = pd.read_csv('./customer.csv')\n",
    "df"
   ]
  },
  {
   "cell_type": "markdown",
   "id": "conscious-conducting",
   "metadata": {},
   "source": [
    "## Promedio de las caraterísticas"
   ]
  },
  {
   "cell_type": "code",
   "execution_count": 3,
   "id": "outdoor-major",
   "metadata": {},
   "outputs": [
    {
     "data": {
      "text/plain": [
       "245.27392739273927"
      ]
     },
     "execution_count": 3,
     "metadata": {},
     "output_type": "execute_result"
    }
   ],
   "source": [
    "# promedio de la primer característica\n",
    "income_mean = df.iloc[:, 0].mean()\n",
    "income_mean"
   ]
  },
  {
   "cell_type": "code",
   "execution_count": 4,
   "id": "toxic-stick",
   "metadata": {},
   "outputs": [
    {
     "data": {
      "text/plain": [
       "149.64686468646866"
      ]
     },
     "execution_count": 4,
     "metadata": {},
     "output_type": "execute_result"
    }
   ],
   "source": [
    "# promedio de la segunda caraterística\n",
    "spend_mean = df.iloc[:, 1].mean()\n",
    "spend_mean"
   ]
  },
  {
   "cell_type": "markdown",
   "id": "clear-collector",
   "metadata": {},
   "source": [
    "## Gráfica dispersión de datos"
   ]
  },
  {
   "cell_type": "code",
   "execution_count": 5,
   "id": "infrared-pottery",
   "metadata": {},
   "outputs": [],
   "source": [
    "# transformamos el DataFrame de Pandas a un array de NumPy\n",
    "dataset = df.to_numpy()"
   ]
  },
  {
   "cell_type": "code",
   "execution_count": 6,
   "id": "bigger-baghdad",
   "metadata": {},
   "outputs": [
    {
     "data": {
      "image/png": "[encoded data removed]",
      "text/plain": [
       "<Figure size 432x288 with 1 Axes>"
      ]
     },
     "metadata": {
      "needs_background": "light"
     },
     "output_type": "display_data"
    }
   ],
   "source": [
    "# gráfica de dispersión de los datos\n",
    "plt.scatter(dataset[:, 0], dataset[:, 1])\n",
    "plt.title('Customer Data')\n",
    "plt.xlabel('Income')\n",
    "plt.ylabel('Spend')\n",
    "plt.show()"
   ]
  },
  {
   "cell_type": "markdown",
   "id": "freelance-diesel",
   "metadata": {},
   "source": [
    "## Desarrollo del algoritmo K-Means"
   ]
  },
  {
   "cell_type": "code",
   "execution_count": 40,
   "id": "proof-timer",
   "metadata": {},
   "outputs": [],
   "source": [
    "def distance(x1, x2):\n",
    "    return np.sqrt(np.sum((x1-x2)**2))\n",
    "\n",
    "class KMeans:\n",
    "    def __init__(self, K=3, max_iters=50, plot_it=False):\n",
    "        '''Initializer of the class'''\n",
    "        self.K = K\n",
    "        self.max_iters = max_iters\n",
    "        self.plot_it = plot_it\n",
    "        \n",
    "        self.clusters = [[] for _ in range(self.K)]\n",
    "        self.centroids = []\n",
    "        \n",
    "    def predict(self, dataset):\n",
    "        self.dataset = dataset\n",
    "        self.n_samples, self.n_features = dataset.shape\n",
    "        \n",
    "        random_sample_idxs = np.random.choice(self.n_samples, self.K, replace=False)\n",
    "        self.centroids = [self.dataset[idx] for idx in random_sample_idxs]\n",
    "        \n",
    "        # optimize the clusters\n",
    "        for _ in range(self.max_iters):\n",
    "            # assign samples to closest centroids (create clusters)\n",
    "            self.clusters = self.create_clusters(self.centroids)\n",
    "            \n",
    "            # calculate new centroids from the cluster\n",
    "            centroids_old = self.centroids\n",
    "            self.centroids = self.get_centroids(self.clusters)\n",
    "            \n",
    "            # check if the clusters have changed\n",
    "            if self.is_converged(centroids_old, self.centroids):\n",
    "                break\n",
    "        \n",
    "        if self.plot_it:\n",
    "            self.plot()\n",
    "        return (self.get_cluster_labels(self.clusters), self.clusters, self.centroids)\n",
    "    \n",
    "    def get_cluster_labels(self, clusters):\n",
    "        # each sample will get the label of the cluster it was assigned to\n",
    "        labels = np.empty(self.n_samples)\n",
    "        \n",
    "        for cluster_idx, cluster in enumerate(clusters):\n",
    "            for sample_idx in cluster:\n",
    "                labels[sample_idx] = cluster_idx\n",
    "        return labels\n",
    "    \n",
    "    def create_clusters(self, centroids):\n",
    "        # assign the samples to the closest centroids to create clusters\n",
    "        clusters = [[] for _ in range(self.K)]\n",
    "        for idx, sample in enumerate(self.dataset):\n",
    "            centroid_idx = self.closest_centroid(sample, centroids)\n",
    "            clusters[centroid_idx].append(idx) \n",
    "        return clusters\n",
    "    \n",
    "    def closest_centroid(self, sample, centroids):\n",
    "        # distance of the current sample to each centroid\n",
    "        distances = [distance(sample, centroid) for centroid in centroids]\n",
    "        closest_idx = np.argmin(distances)\n",
    "        return closest_idx\n",
    "    \n",
    "    def get_centroids(self, clusters):\n",
    "        # assign mean value of clusters to centroids\n",
    "        centroids = np.zeros((self.K, self.n_features))\n",
    "        for cluster_idx, cluster in enumerate(clusters):\n",
    "            cluster_mean = np.mean(self.dataset[cluster], axis=0)\n",
    "            centroids[cluster_idx] = cluster_mean\n",
    "        return centroids\n",
    "    \n",
    "    def is_converged(self, centroids_old, centroids):\n",
    "        # distances between each old and new centroids, for all centroids\n",
    "        distances = [distance(centroids_old[i], centroids[i]) for i in range(self.K)]\n",
    "        return sum(distances) == 0\n",
    "    \n",
    "    def plot(self):\n",
    "        fig, ax = plt.subplots(figsize=(12, 8))\n",
    "\n",
    "        for i, index in enumerate(self.clusters):\n",
    "            point = self.dataset[index].T\n",
    "            ax.scatter(*point)\n",
    "\n",
    "        for point in self.centroids:\n",
    "            ax.scatter(*point, marker=\"x\", color='black', linewidth=2)\n",
    "\n",
    "        plt.show()"
   ]
  },
  {
   "cell_type": "markdown",
   "id": "enabling-vehicle",
   "metadata": {},
   "source": [
    "## Método del codo"
   ]
  },
  {
   "cell_type": "code",
   "execution_count": 107,
   "id": "sweet-waste",
   "metadata": {},
   "outputs": [],
   "source": [
    "elbows = np.empty([10, 2])\n",
    "i = 1\n",
    "while i <= 10:\n",
    "    k = KMeans(K=i)\n",
    "    _, clusters, centroids = k.predict(dataset)\n",
    "    # calculate Ks with their wss\n",
    "    for centroid_idx, cluster in enumerate(clusters):\n",
    "        centroid = centroids[centroid_idx]\n",
    "        wss = 0\n",
    "        # distance from each sample to its centroid\n",
    "        for sample_idx in cluster:\n",
    "            wss += distance(dataset[sample_idx], centroid)\n",
    "        elbows[i-1] = [i, wss]\n",
    "    i += 1    "
   ]
  },
  {
   "cell_type": "code",
   "execution_count": 110,
   "id": "normal-nation",
   "metadata": {},
   "outputs": [
    {
     "data": {
      "text/plain": [
       "[<matplotlib.lines.Line2D at 0x7fe8ab4489d0>]"
      ]
     },
     "execution_count": 110,
     "metadata": {},
     "output_type": "execute_result"
    },
    {
     "data": {
      "image/png": "[encoded data removed]",
      "text/plain": [
       "<Figure size 432x288 with 1 Axes>"
      ]
     },
     "metadata": {
      "needs_background": "light"
     },
     "output_type": "display_data"
    }
   ],
   "source": [
    "plt.plot(elbows[:,0], elbows[:,1], marker='o')"
   ]
  },
  {
   "cell_type": "markdown",
   "id": "secondary-tolerance",
   "metadata": {},
   "source": [
    "## Gráfica de dispersión con clusters y centroides"
   ]
  },
  {
   "cell_type": "code",
   "execution_count": 109,
   "id": "orange-clearing",
   "metadata": {},
   "outputs": [
    {
     "data": {
      "image/png": "[encoded data removed]",
      "text/plain": [
       "<Figure size 864x576 with 1 Axes>"
      ]
     },
     "metadata": {
      "needs_background": "light"
     },
     "output_type": "display_data"
    }
   ],
   "source": [
    "k = KMeans(K=2, plot_it=True)\n",
    "result = k.predict(dataset)"
   ]
  },
  {
   "cell_type": "code",
   "execution_count": null,
   "id": "unexpected-india",
   "metadata": {},
   "outputs": [],
   "source": []
  }
 ],
 "metadata": {
  "kernelspec": {
   "display_name": "Python 3",
   "language": "python",
   "name": "python3"
  },
  "language_info": {
   "codemirror_mode": {
    "name": "ipython",
    "version": 3
   },
   "file_extension": ".py",
   "mimetype": "text/x-python",
   "name": "python",
   "nbconvert_exporter": "python",
   "pygments_lexer": "ipython3",
   "version": "3.9.1"
  }
 },
 "nbformat": 4,
 "nbformat_minor": 5
}
