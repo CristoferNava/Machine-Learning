{
 "cells": [
  {
   "cell_type": "code",
   "execution_count": 1,
   "id": "amateur-calculation",
   "metadata": {},
   "outputs": [],
   "source": [
    "import pandas as pd\n",
    "import numpy as np"
   ]
  },
  {
   "cell_type": "code",
   "execution_count": 2,
   "id": "contrary-remainder",
   "metadata": {},
   "outputs": [],
   "source": [
    "from math import e, pi, sqrt\n",
    "\n",
    "\n",
    "def matrix_measures(df):\n",
    "    '''Creates a matrix of measures, each element in the matrix is an array of two elements:\n",
    "    the first one is the mean and the second is the standart deviation.\n",
    "    We have an array for each column in the data-frame\n",
    "    '''\n",
    "    matrix = []\n",
    "    for i, column in enumerate(df.columns):\n",
    "        if i == len(df.columns) - 1:\n",
    "            return matrix\n",
    "        matrix.append([ df[column].mean(), df[column].std() ])\n",
    "    \n",
    "    \n",
    "def normal_distribution(c, mean, std):\n",
    "    '''Normal distribution equation. '''\n",
    "    return (1 / sqrt(2 * pi * std)) * (e ** (-0.5 * (((c - mean) / std)**2)))\n",
    "\n",
    "def naive_bayes_training(df):\n",
    "    '''\n",
    "        df: dataframe,\n",
    "        x: sample vector to clasify\n",
    "    '''\n",
    "    n_columns = df.shape[1] # get the number of columns (rows x columns)\n",
    "    classes = df.iloc[:, n_columns - 1] # select the last column (we assume it has the labels of the classes)\n",
    "    classes = np.unique(classes) # get the classes, that is the different values\n",
    "    df = np.array_split(df, len(classes)) # split the data frame in the number of classes\n",
    "    \n",
    "    \n",
    "    # hash-table, the keys are the classes and the values are the matrix_measures (means and stds)\n",
    "    measures = {}\n",
    "    for i in range(len(df)):\n",
    "        measures[i] = matrix_measures(df[i])\n",
    "    return measures\n",
    "    \n",
    "\n",
    "def naive_bayes(measures, x):\n",
    "    # array of probabilities, each per class \n",
    "    probabilities = []\n",
    "    for k, v in measures.items():\n",
    "        p = 1\n",
    "        for i, c in enumerate(x):\n",
    "            p *= normal_distribution(c, measures[k][i][0], measures[k][i][1])\n",
    "        probabilities.append(p)\n",
    "    \n",
    "    max_p = probabilities[0]\n",
    "    result = 0 # index of the class\n",
    "    \n",
    "    # find the max probabilitie\n",
    "    for i, p in enumerate(probabilities):\n",
    "        if p > max_p:\n",
    "            max_p = p\n",
    "            result = i\n",
    "    return result"
   ]
  },
  {
   "cell_type": "code",
   "execution_count": 5,
   "id": "united-romance",
   "metadata": {},
   "outputs": [],
   "source": [
    "df = pd.read_csv('./iris.data', header=None)"
   ]
  },
  {
   "cell_type": "code",
   "execution_count": 6,
   "id": "floppy-reality",
   "metadata": {},
   "outputs": [],
   "source": [
    "# training dataset\n",
    "setosa = df[:45]\n",
    "versicolor = df[50:95]\n",
    "virginica = df[100:145]\n",
    "frames = [setosa, versicolor, virginica]\n",
    "training = pd.concat(frames)\n",
    "\n",
    "# testing dataset\n",
    "setosa = df[45:50]\n",
    "versicolor = df[95:100]\n",
    "virginica = df[145:150]\n",
    "frames = [setosa, versicolor, virginica]\n",
    "testing = pd.concat(frames)"
   ]
  },
  {
   "cell_type": "code",
   "execution_count": 10,
   "id": "labeled-invasion",
   "metadata": {},
   "outputs": [
    {
     "data": {
      "text/plain": [
       "15"
      ]
     },
     "execution_count": 10,
     "metadata": {},
     "output_type": "execute_result"
    }
   ],
   "source": [
    "measures = naive_bayes_training(training)\n",
    "\n",
    "corrects = 0\n",
    "# testing \n",
    "for i in range(15):\n",
    "    sample = testing.iloc[i, :4]\n",
    "    result = naive_bayes(measures, sample)\n",
    "    if result == 0 and testing.iloc[i, 4] == 'Iris-setosa':\n",
    "        corrects += 1 \n",
    "    if result == 1 and testing.iloc[i, 4] == 'Iris-versicolor':\n",
    "        corrects += 1 \n",
    "    if result == 2 and testing.iloc[i, 4] == 'Iris-virginica':\n",
    "        corrects += 1 \n",
    "\n",
    "corrects"
   ]
  },
  {
   "cell_type": "code",
   "execution_count": 18,
   "id": "unnecessary-client",
   "metadata": {},
   "outputs": [
    {
     "name": "stdout",
     "output_type": "stream",
     "text": [
      "150\n"
     ]
    },
    {
     "data": {
      "text/plain": [
       "(144, 96.0)"
      ]
     },
     "execution_count": 18,
     "metadata": {},
     "output_type": "execute_result"
    }
   ],
   "source": [
    "measures = naive_bayes_training(training)\n",
    "print(len(training))\n",
    "\n",
    "training = df\n",
    "corrects = 0\n",
    "# testing \n",
    "for i in range(len(training)):\n",
    "    sample = training.iloc[i, :4]\n",
    "    result = naive_bayes(measures, sample)\n",
    "    if result == 0 and training.iloc[i, 4] == 'Iris-setosa':\n",
    "        corrects += 1 \n",
    "    if result == 1 and training.iloc[i, 4] == 'Iris-versicolor':\n",
    "        corrects += 1 \n",
    "    if result == 2 and training.iloc[i, 4] == 'Iris-virginica':\n",
    "        corrects += 1 \n",
    "\n",
    "corrects, corrects/len(training) * 100"
   ]
  },
  {
   "cell_type": "code",
   "execution_count": null,
   "id": "blind-defense",
   "metadata": {},
   "outputs": [],
   "source": []
  }
 ],
 "metadata": {
  "kernelspec": {
   "display_name": "Python 3",
   "language": "python",
   "name": "python3"
  },
  "language_info": {
   "codemirror_mode": {
    "name": "ipython",
    "version": 3
   },
   "file_extension": ".py",
   "mimetype": "text/x-python",
   "name": "python",
   "nbconvert_exporter": "python",
   "pygments_lexer": "ipython3",
   "version": "3.9.1"
  }
 },
 "nbformat": 4,
 "nbformat_minor": 5
}
