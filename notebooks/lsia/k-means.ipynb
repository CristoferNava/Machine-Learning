{
 "cells": [
  {
   "cell_type": "code",
   "execution_count": 34,
   "id": "aware-involvement",
   "metadata": {},
   "outputs": [],
   "source": [
    "import numpy as np\n",
    "import matplotlib.pyplot as plt"
   ]
  },
  {
   "cell_type": "code",
   "execution_count": 35,
   "id": "popular-maker",
   "metadata": {},
   "outputs": [],
   "source": [
    "np.random.seed(42) # para replicar los resultados"
   ]
  },
  {
   "cell_type": "code",
   "execution_count": 36,
   "id": "innocent-directory",
   "metadata": {},
   "outputs": [],
   "source": [
    "def distance(x1, x2):\n",
    "    return np.sqrt(np.sum(x1-x2)**2)"
   ]
  },
  {
   "cell_type": "code",
   "execution_count": 37,
   "id": "weighted-adoption",
   "metadata": {},
   "outputs": [],
   "source": [
    "class KMeans:\n",
    "    def __init__(self, K=3, max_iters=100, plot_steps=False):\n",
    "        self.K = K\n",
    "        self.max_iters = max_iters\n",
    "        self.plot_steps = plot_steps\n",
    "        \n",
    "        # list of sample indices for each cluster\n",
    "        self.clusters = [[] for _ in range(self.K)]\n",
    "        # mean feature vector for each cluster\n",
    "        self.centroids = []\n",
    "        \n",
    "    def predict(self, X):\n",
    "        self.X = X\n",
    "        self.n_samples, self.n_features = X.shape\n",
    "        \n",
    "        # initialize centroids\n",
    "        random_sample_idxs = np.random.choice(self.n_samples, self.K, replace=False)\n",
    "        self.centroids = [self.X[idx] for idx in random_sample_idxs]\n",
    "        \n",
    "        # optimization\n",
    "        for _ in range(self.max_iters):\n",
    "            # update clusters\n",
    "            self.clusters = self.__create_clusters(self.centroids)\n",
    "            if self.plot_steps:\n",
    "                self.plot()\n",
    "            # update centroids\n",
    "            centroids_old = self.centroids\n",
    "            self.centroids = self.__get_centroids(self.clusters)\n",
    "            # check if converged\n",
    "            if self.__is_converged(centroids_old, self.centroids):\n",
    "                break\n",
    "        \n",
    "        # return cluster labels\n",
    "        return self.__get_cluster_labels(self.clusters)\n",
    "    \n",
    "    def __get_cluster_labels(self, clusters):\n",
    "        labels = np.empty(self.n_samples)\n",
    "        for cluster_idx, cluster in enumerate(clusters):\n",
    "            for sample_idx in cluster:\n",
    "                labels[sample_idx] = cluster_idx\n",
    "                \n",
    "        return labels\n",
    "\n",
    "    def __create_clusters(self, centroids):\n",
    "        clusters = [[] for _ in range(self.K)]\n",
    "        for idx, sample in enumerate(self.X):\n",
    "            centroid_idx = self.__closest_centroid(sample, centroids)\n",
    "            clusters[centroid_idx].append(idx)\n",
    "        return clusters\n",
    "    \n",
    "    def __closest_centroid(self, sample, centroids):\n",
    "        distances = [distance(sample, point) for point in centroids]\n",
    "        closest_idx = np.argmin(distances)\n",
    "        return closest_idx\n",
    "    \n",
    "    def __get_centroids(self, clusters):\n",
    "        centroids = np.zeros((self.K, self.n_features))\n",
    "        for cluster_idx, cluster in enumerate(clusters):\n",
    "            cluster_mean = np.mean(self.X[cluster], axis=0)\n",
    "            centroids[cluster_idx] = cluster_mean\n",
    "        return centroids\n",
    "    \n",
    "    def __is_converged(self, centroids_old, centroids):\n",
    "        distances = [distance(centroids_old[i], centroids[i]) for i in range(self.K)]\n",
    "        return sum(distances) == 0\n",
    "    \n",
    "    def plot(self):\n",
    "        fig, ax = plt.subplots(figsize=(12, 8))\n",
    "        \n",
    "        for i, index in enumerate(self.clusters):\n",
    "            point = self.X[index].T\n",
    "            ax.scatter(*point)\n",
    "        \n",
    "        for point in self.centroids:\n",
    "            ax.scatter(*point, marker='x', color='black', linewidth=2)\n",
    "        plt.show()"
   ]
  },
  {
   "cell_type": "code",
   "execution_count": 38,
   "id": "junior-dynamics",
   "metadata": {},
   "outputs": [],
   "source": [
    "from sklearn.datasets import make_blobs"
   ]
  },
  {
   "cell_type": "code",
   "execution_count": 43,
   "id": "realistic-reliance",
   "metadata": {},
   "outputs": [
    {
     "name": "stdout",
     "output_type": "stream",
     "text": [
      "(500, 2)\n",
      "4\n"
     ]
    },
    {
     "data": {
      "image/png": "[encoded data removed]",
      "text/plain": [
       "<Figure size 864x576 with 1 Axes>"
      ]
     },
     "metadata": {
      "needs_background": "light"
     },
     "output_type": "display_data"
    }
   ],
   "source": [
    "X, y = make_blobs(centers=4, n_samples=500, n_features=2, shuffle=True, random_state=42)\n",
    "print(X.shape)\n",
    "\n",
    "clusters = len(np.unique(y))\n",
    "print(clusters)\n",
    "\n",
    "k = KMeans(K=clusters, max_iters=150, plot_steps=False)\n",
    "y_pred = k.predict(X)\n",
    "\n",
    "k.plot()"
   ]
  },
  {
   "cell_type": "code",
   "execution_count": null,
   "id": "complimentary-trunk",
   "metadata": {},
   "outputs": [],
   "source": []
  },
  {
   "cell_type": "code",
   "execution_count": null,
   "id": "advised-disorder",
   "metadata": {},
   "outputs": [],
   "source": []
  }
 ],
 "metadata": {
  "kernelspec": {
   "display_name": "Python 3",
   "language": "python",
   "name": "python3"
  },
  "language_info": {
   "codemirror_mode": {
    "name": "ipython",
    "version": 3
   },
   "file_extension": ".py",
   "mimetype": "text/x-python",
   "name": "python",
   "nbconvert_exporter": "python",
   "pygments_lexer": "ipython3",
   "version": "3.9.1"
  }
 },
 "nbformat": 4,
 "nbformat_minor": 5
}
