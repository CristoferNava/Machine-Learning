{
 "cells": [
  {
   "cell_type": "code",
   "execution_count": 1,
   "id": "aware-involvement",
   "metadata": {},
   "outputs": [],
   "source": [
    "import numpy as np\n",
    "import matplotlib.pyplot as plt"
   ]
  },
  {
   "cell_type": "code",
   "execution_count": 2,
   "id": "popular-maker",
   "metadata": {},
   "outputs": [],
   "source": [
    "np.random.seed(42) # para replicar los resultados"
   ]
  },
  {
   "cell_type": "code",
   "execution_count": 3,
   "id": "innocent-directory",
   "metadata": {},
   "outputs": [],
   "source": [
    "def distance(x1, x2):\n",
    "    return np.sqrt(np.sum(x1-x2)**2)"
   ]
  },
  {
   "cell_type": "code",
   "execution_count": 20,
   "id": "weighted-adoption",
   "metadata": {},
   "outputs": [],
   "source": [
    "class KMeans:\n",
    "    def __init__(self, K=3, max_iters=100, plot_steps=False):\n",
    "        self.K = K\n",
    "        self.max_iters = max_iters\n",
    "        self.plot_steps = plot_steps\n",
    "        \n",
    "        # list of sample indices for each cluster\n",
    "        self.clusters = [[] for _ in range(self.K)]\n",
    "        # mean feature vector for each cluster\n",
    "        self.centroids = []\n",
    "        \n",
    "    def predict(self, X):\n",
    "        self.X = X\n",
    "        self.n_samples, self.n_features = X.shape\n",
    "        \n",
    "        # initialize centroids\n",
    "        random_sample_idxs = np.random.choice(self.n_samples, self.K, replace=False)\n",
    "        self.centroids = [self.X[idx] for idx in random_sample_idxs]\n",
    "        \n",
    "        # optimization\n",
    "        for _ in range(self.max_iters):\n",
    "            # update clusters\n",
    "            self.clusters = self.__create_clusters(self.centroids)\n",
    "            if self.plot_steps:\n",
    "                self.plot()\n",
    "            # update centroids\n",
    "            centroids_old = self.centroids\n",
    "            self.centroids = self.__get_centroids(self.clusters)\n",
    "            # check if converged\n",
    "            if self.__is_converged(centroids_old, self.centroids):\n",
    "                break\n",
    "        \n",
    "        # return cluster labels\n",
    "        return self.__get_cluster_labels(self.clusters)\n",
    "    \n",
    "    def __get_cluster_labels(self, clusters):\n",
    "        labels = np.empty(self.n_samples)\n",
    "        for cluster_idx, cluster in enumerate(clusters):\n",
    "            for sample_idx in cluster:\n",
    "                labels[sample_idx] = cluster_idx\n",
    "                \n",
    "        return labels\n",
    "\n",
    "    def __create_clusters(self, centroids):\n",
    "        clusters = [[] for _ in range(self.K)]\n",
    "        for idx, sample in enumerate(self.X):\n",
    "            centroid_idx = self.__closest_centroid(sample, centroids)\n",
    "            clusters[centroid_idx].append(idx)\n",
    "        return clusters\n",
    "    \n",
    "    def __closest_centroid(self, sample, centroids):\n",
    "        distances = [distance(sample, point) for point in centroids]\n",
    "        closest_idx = np.argmin(distances)\n",
    "        return closest_idx\n",
    "    \n",
    "    def __get_centroids(self, clusters):\n",
    "        centroids = np.zeros((self.K, self.n_features))\n",
    "        #print(clusters[0])\n",
    "        for cluster_idx, cluster in enumerate(clusters):\n",
    "            cluster_mean = np.mean(self.X[cluster], axis=0)\n",
    "            print(cluster_mean)\n",
    "            centroids[cluster_idx] = cluster_mean\n",
    "        return centroids\n",
    "    \n",
    "    def __is_converged(self, centroids_old, centroids):\n",
    "        distances = [distance(centroids_old[i], centroids[i]) for i in range(self.K)]\n",
    "        return sum(distances) == 0\n",
    "    \n",
    "    def plot(self):\n",
    "        fig, ax = plt.subplots(figsize=(12, 8))\n",
    "        \n",
    "        for i, index in enumerate(self.clusters):\n",
    "            point = self.X[index].T\n",
    "            ax.scatter(*point)\n",
    "        \n",
    "        for point in self.centroids:\n",
    "            ax.scatter(*point, marker='x', color='black', linewidth=2)\n",
    "        plt.show()"
   ]
  },
  {
   "cell_type": "code",
   "execution_count": 18,
   "id": "junior-dynamics",
   "metadata": {},
   "outputs": [],
   "source": [
    "from sklearn.datasets import make_blobs"
   ]
  },
  {
   "cell_type": "code",
   "execution_count": 21,
   "id": "realistic-reliance",
   "metadata": {},
   "outputs": [
    {
     "name": "stdout",
     "output_type": "stream",
     "text": [
      "[0.56566215 5.36049466]\n",
      "[2.00220904 6.03125647]\n",
      "[-7.55880729  7.03167802]\n",
      "[-7.02703932 -6.8089879 ]\n",
      "[0.50540956 5.23064939]\n",
      "[2.00220904 6.03125647]\n",
      "[-8.60153632  7.40381186]\n",
      "[-7.0009649  -6.90445754]\n",
      "[0.41919888 5.22170927]\n",
      "[2.00485654 5.93070941]\n",
      "[-8.68153751  7.4554521 ]\n",
      "[-7.0009649  -6.90445754]\n",
      "[0.21562682 5.36642492]\n",
      "[2.169742   5.69448142]\n",
      "[-8.68153751  7.4554521 ]\n",
      "[-7.0009649  -6.90445754]\n",
      "[0.22795667 5.32850751]\n",
      "[2.10148799 5.73309719]\n",
      "[-8.68153751  7.4554521 ]\n",
      "[-7.0009649  -6.90445754]\n",
      "[0.22071521 5.31901698]\n",
      "[2.07710761 5.73744252]\n",
      "[-8.68153751  7.4554521 ]\n",
      "[-7.0009649  -6.90445754]\n",
      "[0.23889435 5.29239328]\n",
      "[2.03913607 5.76553373]\n",
      "[-8.68153751  7.4554521 ]\n",
      "[-7.0009649  -6.90445754]\n",
      "[0.23889435 5.29239328]\n",
      "[2.03913607 5.76553373]\n",
      "[-8.68153751  7.4554521 ]\n",
      "[-7.0009649  -6.90445754]\n"
     ]
    },
    {
     "data": {
      "image/png": "[encoded data removed]",
      "text/plain": [
       "<Figure size 864x576 with 1 Axes>"
      ]
     },
     "metadata": {
      "needs_background": "light"
     },
     "output_type": "display_data"
    }
   ],
   "source": [
    "X, y = make_blobs(centers=4, n_samples=500, n_features=2, shuffle=True, random_state=42)\n",
    "\n",
    "clusters = len(np.unique(y))\n",
    "\n",
    "k = KMeans(K=clusters, max_iters=150, plot_steps=False)\n",
    "y_pred = k.predict(X)\n",
    "\n",
    "k.plot()"
   ]
  },
  {
   "cell_type": "code",
   "execution_count": 25,
   "id": "statewide-contribution",
   "metadata": {},
   "outputs": [
    {
     "data": {
      "text/plain": [
       "array([6.82968177, 1.1648714 ])"
      ]
     },
     "execution_count": 25,
     "metadata": {},
     "output_type": "execute_result"
    }
   ],
   "source": [
    "X[2]"
   ]
  },
  {
   "cell_type": "code",
   "execution_count": null,
   "id": "horizontal-lending",
   "metadata": {},
   "outputs": [],
   "source": []
  },
  {
   "cell_type": "code",
   "execution_count": null,
   "id": "upset-illustration",
   "metadata": {},
   "outputs": [],
   "source": []
  },
  {
   "cell_type": "code",
   "execution_count": 2,
   "id": "complimentary-trunk",
   "metadata": {},
   "outputs": [],
   "source": [
    "import pandas as pd"
   ]
  },
  {
   "cell_type": "code",
   "execution_count": 3,
   "id": "advised-disorder",
   "metadata": {},
   "outputs": [],
   "source": [
    "iris = pd.read_csv('./iris.data', header=None)"
   ]
  },
  {
   "cell_type": "code",
   "execution_count": 4,
   "id": "embedded-steal",
   "metadata": {},
   "outputs": [
    {
     "data": {
      "text/plain": [
       "(150, 5)"
      ]
     },
     "execution_count": 4,
     "metadata": {},
     "output_type": "execute_result"
    }
   ],
   "source": [
    "iris.shape"
   ]
  },
  {
   "cell_type": "code",
   "execution_count": 8,
   "id": "smart-watson",
   "metadata": {},
   "outputs": [
    {
     "data": {
      "text/html": [
       "<div>\n",
       "<style scoped>\n",
       "    .dataframe tbody tr th:only-of-type {\n",
       "        vertical-align: middle;\n",
       "    }\n",
       "\n",
       "    .dataframe tbody tr th {\n",
       "        vertical-align: top;\n",
       "    }\n",
       "\n",
       "    .dataframe thead th {\n",
       "        text-align: right;\n",
       "    }\n",
       "</style>\n",
       "<table border=\"1\" class=\"dataframe\">\n",
       "  <thead>\n",
       "    <tr style=\"text-align: right;\">\n",
       "      <th></th>\n",
       "      <th>0</th>\n",
       "      <th>1</th>\n",
       "      <th>2</th>\n",
       "      <th>3</th>\n",
       "      <th>4</th>\n",
       "    </tr>\n",
       "  </thead>\n",
       "  <tbody>\n",
       "    <tr>\n",
       "      <th>0</th>\n",
       "      <td>5.1</td>\n",
       "      <td>3.5</td>\n",
       "      <td>1.4</td>\n",
       "      <td>0.2</td>\n",
       "      <td>Iris-setosa</td>\n",
       "    </tr>\n",
       "  </tbody>\n",
       "</table>\n",
       "</div>"
      ],
      "text/plain": [
       "     0    1    2    3            4\n",
       "0  5.1  3.5  1.4  0.2  Iris-setosa"
      ]
     },
     "execution_count": 8,
     "metadata": {},
     "output_type": "execute_result"
    }
   ],
   "source": [
    "iris[:1]"
   ]
  },
  {
   "cell_type": "code",
   "execution_count": null,
   "id": "theoretical-probe",
   "metadata": {},
   "outputs": [],
   "source": []
  }
 ],
 "metadata": {
  "kernelspec": {
   "display_name": "Python 3",
   "language": "python",
   "name": "python3"
  },
  "language_info": {
   "codemirror_mode": {
    "name": "ipython",
    "version": 3
   },
   "file_extension": ".py",
   "mimetype": "text/x-python",
   "name": "python",
   "nbconvert_exporter": "python",
   "pygments_lexer": "ipython3",
   "version": "3.9.1"
  }
 },
 "nbformat": 4,
 "nbformat_minor": 5
}
