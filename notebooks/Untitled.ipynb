{
 "cells": [
  {
   "cell_type": "code",
   "execution_count": 12,
   "metadata": {},
   "outputs": [],
   "source": [
    "import pandas as pd\n",
    "import matplotlib.pyplot as plt\n",
    "import numpy as np\n",
    "from math import sqrt"
   ]
  },
  {
   "cell_type": "code",
   "execution_count": 13,
   "metadata": {},
   "outputs": [],
   "source": [
    "X = pd.Series([2, 3, 5, 4, 2])\n",
    "Y = pd.Series([6, 14, 24, 13, 14])"
   ]
  },
  {
   "cell_type": "code",
   "execution_count": 22,
   "metadata": {},
   "outputs": [
    {
     "name": "stdout",
     "output_type": "stream",
     "text": [
      "0.8005744653596882\n"
     ]
    }
   ],
   "source": [
    "num = 0\n",
    "mean_x = np.mean(X)\n",
    "mean_y = np.mean(Y)\n",
    "for i in range(len(X)):\n",
    "    num += (X[i] - mean_x) * (Y[i] - mean_y)\n",
    "\n",
    "denom1 = 0\n",
    "denom2 = 0\n",
    "for i in range(len(X)):\n",
    "    denom1 += (X[i] - mean_x) ** 2\n",
    "    denom2 += (Y[i] - mean_y) ** 2\n",
    "denom = sqrt(denom1) * sqrt(denom2)\n",
    "\n",
    "print(num/denom)"
   ]
  },
  {
   "cell_type": "code",
   "execution_count": null,
   "metadata": {},
   "outputs": [],
   "source": []
  }
 ],
 "metadata": {
  "kernelspec": {
   "display_name": "Python 3",
   "language": "python",
   "name": "python3"
  },
  "language_info": {
   "codemirror_mode": {
    "name": "ipython",
    "version": 3
   },
   "file_extension": ".py",
   "mimetype": "text/x-python",
   "name": "python",
   "nbconvert_exporter": "python",
   "pygments_lexer": "ipython3",
   "version": "3.8.2"
  }
 },
 "nbformat": 4,
 "nbformat_minor": 4
}
